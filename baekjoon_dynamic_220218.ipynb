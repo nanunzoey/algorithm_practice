{
  "nbformat": 4,
  "nbformat_minor": 0,
  "metadata": {
    "colab": {
      "name": "baekjoon_dynamic_220218.ipynb",
      "provenance": [],
      "collapsed_sections": [],
      "authorship_tag": "ABX9TyOJfukihPXf6R+OY0cXMcYV"
    },
    "kernelspec": {
      "name": "python3",
      "display_name": "Python 3"
    },
    "language_info": {
      "name": "python"
    }
  },
  "cells": [
    {
      "cell_type": "markdown",
      "source": [
        "# 1로 만들기\n",
        "\n",
        "정수 X에 사용할 수 있는 연산은 다음과 같이 세 가지 이다.\n",
        "\n",
        "1. X가 3으로 나누어 떨어지면, 3으로 나눈다.\n",
        "2. X가 2로 나누어 떨어지면, 2로 나눈다.\n",
        "3. 1을 뺀다.\n",
        "정수 N이 주어졌을 때, 위와 같은 연산 세 개를 적절히 사용해서 1을 만들려고 한다. 연산을 사용하는 횟수의 최솟값을 출력하시오.\n",
        "\n",
        "### 입력\n",
        "- 첫째 줄에 1보다 크거나 같고, 106보다 작거나 같은 정수 N이 주어진다.\n",
        "\n",
        "### 출력\n",
        "- 첫째 줄에 연산을 하는 횟수의 최솟값을 출력한다.\n",
        "\n",
        "### 제한\n",
        "- 시간: 1.5초\n",
        "- 메모리: 128MB"
      ],
      "metadata": {
        "id": "yv4iwbMUhnSb"
      }
    },
    {
      "cell_type": "code",
      "source": [
        "n = int(input())\n",
        "dp = [0] * (n+1)\n",
        "\n",
        "for i in range(2, n+1):\n",
        "    dp[i] = dp[i-1] + 1\n",
        "    \n",
        "    if i % 3 == 0:\n",
        "        dp[i] = min(dp[i], dp[i//3]+1)\n",
        "    if i % 2 == 0:\n",
        "        dp[i] = min(dp[i], dp[i//2]+1)\n",
        "\n",
        "print(dp[n])"
      ],
      "metadata": {
        "colab": {
          "base_uri": "https://localhost:8080/"
        },
        "id": "WuY44QsIhnhm",
        "outputId": "cfcc4286-b602-46d1-ed47-d3e62c195d00"
      },
      "execution_count": 6,
      "outputs": [
        {
          "output_type": "stream",
          "name": "stdout",
          "text": [
            "10\n",
            "3\n"
          ]
        }
      ]
    }
  ]
}