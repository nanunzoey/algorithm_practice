{
  "nbformat": 4,
  "nbformat_minor": 0,
  "metadata": {
    "colab": {
      "name": "baekjoon_sort_220209.ipynb",
      "provenance": [],
      "collapsed_sections": [],
      "authorship_tag": "ABX9TyMqwniSZYCw4IGw4JneO4Ij",
      "include_colab_link": true
    },
    "kernelspec": {
      "name": "python3",
      "display_name": "Python 3"
    },
    "language_info": {
      "name": "python"
    }
  },
  "cells": [
    {
      "cell_type": "markdown",
      "metadata": {
        "id": "view-in-github",
        "colab_type": "text"
      },
      "source": [
        "<a href=\"https://colab.research.google.com/github/nanunzoey/algorithm_practice/blob/main/baekjoon_sort_220209.ipynb\" target=\"_parent\"><img src=\"https://colab.research.google.com/assets/colab-badge.svg\" alt=\"Open In Colab\"/></a>"
      ]
    },
    {
      "cell_type": "markdown",
      "source": [
        "# 나이순 정렬\n",
        "\n",
        "온라인 저지에 가입한 사람들의 나이와 이름이 가입한 순서대로 주어진다. 이때, 회원들을 나이가 증가하는 순으로, 나이가 같으면 먼저 가입한 사람이 앞에 오는 순서로 정렬하는 프로그램을 작성하시오.\n",
        "\n",
        "### 입력\n",
        "- 첫째 줄에 온라인 저지 회원의 수 N이 주어진다. (1 ≤ N ≤ 100,000)\n",
        "- 둘째 줄부터 N개의 줄에는 각 회원의 나이와 이름이 공백으로 구분되어 주어진다. 나이는 1보다 크거나 같으며, 200보다 작거나 같은 정수이고, 이름은 알파벳 대소문자로 이루어져 있고, 길이가 100보다 작거나 같은 문자열이다. 입력은 가입한 순서로 주어진다.\n",
        "\n",
        "### 출력\n",
        "- 첫째 줄부터 총 N개의 줄에 걸쳐 온라인 저지 회원을 나이 순, 나이가 같으면 가입한 순으로 한 줄에 한 명씩 나이와 이름을 공백으로 구분해 출력한다.\n",
        "\n",
        "### 제한\n",
        "- 시간: 3초\n",
        "- 메모리: 256MB"
      ],
      "metadata": {
        "id": "QVACvQUasN2_"
      }
    },
    {
      "cell_type": "code",
      "source": [
        "n = int(input())\n",
        "members = []\n",
        "\n",
        "for _ in range(n):\n",
        "    [age, name] = input().split()\n",
        "    members.append([int(age), name])\n",
        "    \n",
        "members.sort(key=lambda x: x[0])\n",
        "for m in members:\n",
        "    print(m[0], m[1])"
      ],
      "metadata": {
        "colab": {
          "base_uri": "https://localhost:8080/"
        },
        "id": "amvFGlL4sYVv",
        "outputId": "b479b539-4197-4369-ea87-2e23c61319aa"
      },
      "execution_count": 1,
      "outputs": [
        {
          "output_type": "stream",
          "name": "stdout",
          "text": [
            "3\n",
            "21 junkyu\n",
            "21 dohyun\n",
            "20 sunyoung\n",
            "20 sunyoung\n",
            "21 junkyu\n",
            "21 dohyun\n"
          ]
        }
      ]
    },
    {
      "cell_type": "markdown",
      "source": [
        "# 좌표 압축\n",
        "\n",
        "수직선 위에 N개의 좌표 X1, X2, ..., XN이 있다. 이 좌표에 좌표 압축을 적용하려고 한다.\n",
        "Xi를 좌표 압축한 결과 X'i의 값은 Xi > Xj를 만족하는 서로 다른 좌표의 개수와 같아야 한다.\n",
        "X1, X2, ..., XN에 좌표 압축을 적용한 결과 X'1, X'2, ..., X'N를 출력해보자.\n",
        "\n",
        "### 입력\n",
        "- 첫째 줄에 N이 주어진다.\n",
        "- 둘째 줄에는 공백 한 칸으로 구분된 X1, X2, ..., XN이 주어진다.\n",
        "\n",
        "### 출력\n",
        "- 첫째 줄에 X'1, X'2, ..., X'N을 공백 한 칸으로 구분해서 출력한다.\n",
        "\n",
        "### 제한\n",
        "- 시간: 2초\n",
        "- 메모리: 512MB\n",
        "\n"
      ],
      "metadata": {
        "id": "GSEINTss9u5A"
      }
    },
    {
      "cell_type": "code",
      "source": [
        "import sys\n",
        "\n",
        "n = int(input())\n",
        "nums = list(map(int, sys.stdin.readline().split()))\n",
        "answer = sorted(list(set(nums)))\n",
        "\n",
        "num_dict = {}\n",
        "for i, a in enumerate(answer):\n",
        "    num_dict[a] = i\n",
        "\n",
        "for n in nums:\n",
        "    print(num_dict[n], end=' ')"
      ],
      "metadata": {
        "id": "T_fMLvGB9vNT"
      },
      "execution_count": null,
      "outputs": []
    }
  ]
}