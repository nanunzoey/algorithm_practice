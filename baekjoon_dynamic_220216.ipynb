{
  "nbformat": 4,
  "nbformat_minor": 0,
  "metadata": {
    "colab": {
      "name": "baekjoon_dynamic_220216.ipynb",
      "provenance": [],
      "collapsed_sections": [],
      "authorship_tag": "ABX9TyPkYt+eJYZlqncxd5kn1D1g"
    },
    "kernelspec": {
      "name": "python3",
      "display_name": "Python 3"
    },
    "language_info": {
      "name": "python"
    }
  },
  "cells": [
    {
      "cell_type": "markdown",
      "source": [
        "# 정수 삼각형\n",
        "\n",
        "위 그림은 크기가 5인 정수 삼각형의 한 모습이다.\n",
        "\n",
        "맨 위층 7부터 시작해서 아래에 있는 수 중 하나를 선택하여 아래층으로 내려올 때, 이제까지 선택된 수의 합이 최대가 되는 경로를 구하는 프로그램을 작성하라. 아래층에 있는 수는 현재 층에서 선택된 수의 대각선 왼쪽 또는 대각선 오른쪽에 있는 것 중에서만 선택할 수 있다.\n",
        "\n",
        "삼각형의 크기는 1 이상 500 이하이다. 삼각형을 이루고 있는 각 수는 모두 정수이며, 범위는 0 이상 9999 이하이다.\n",
        "\n",
        "### 입력\n",
        "- 첫째 줄에 삼각형의 크기 n(1 ≤ n ≤ 500)이 주어지고, 둘째 줄부터 n+1번째 줄까지 정수 삼각형이 주어진다.\n",
        "\n",
        "### 출력\n",
        "- 첫째 줄에 합이 최대가 되는 경로에 있는 수의 합을 출력한다.\n",
        "\n",
        "### 제한\n",
        "- 시간: 2초\n",
        "- 메모리: 128MB"
      ],
      "metadata": {
        "id": "yv4iwbMUhnSb"
      }
    },
    {
      "cell_type": "code",
      "source": [
        "n = int(input())\n",
        "triangle = [list(map(int, input().split())) for _ in range(n)]\n",
        "\n",
        "for i in range(1, n):\n",
        "    triangle[i][0] += triangle[i-1][0]\n",
        "    triangle[i][-1] += triangle[i-1][-1]\n",
        "    \n",
        "    if i > 1:\n",
        "      for j in range(1, len(triangle[i])-1):\n",
        "          triangle[i][j] += max(triangle[i-1][j-1], triangle[i-1][j])\n",
        "\n",
        "print(max(triangle[-1]))"
      ],
      "metadata": {
        "colab": {
          "base_uri": "https://localhost:8080/"
        },
        "id": "WuY44QsIhnhm",
        "outputId": "5158f7ed-db94-46a5-a053-8fd567ad5c6f"
      },
      "execution_count": 5,
      "outputs": [
        {
          "output_type": "stream",
          "name": "stdout",
          "text": [
            "5\n",
            "7\n",
            "3 8\n",
            "8 1 0\n",
            "2 7 4 4\n",
            "4 5 2 6 5\n",
            "30\n"
          ]
        }
      ]
    }
  ]
}