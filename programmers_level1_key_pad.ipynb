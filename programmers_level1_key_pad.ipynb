{
  "nbformat": 4,
  "nbformat_minor": 0,
  "metadata": {
    "colab": {
      "name": "programmers_level1_key_pad.ipynb",
      "provenance": [],
      "authorship_tag": "ABX9TyPkQgoJeELKP+tG2W2ZQzoI",
      "include_colab_link": true
    },
    "kernelspec": {
      "name": "python3",
      "display_name": "Python 3"
    },
    "language_info": {
      "name": "python"
    }
  },
  "cells": [
    {
      "cell_type": "markdown",
      "metadata": {
        "id": "view-in-github",
        "colab_type": "text"
      },
      "source": [
        "<a href=\"https://colab.research.google.com/github/nanunzoey/algorithm_practice/blob/main/programmers_level1_key_pad.ipynb\" target=\"_parent\"><img src=\"https://colab.research.google.com/assets/colab-badge.svg\" alt=\"Open In Colab\"/></a>"
      ]
    },
    {
      "cell_type": "markdown",
      "source": [
        "# 프로그래머스 Programmers Level 1\n",
        "## 키패드 누르기\n",
        "### 문제 설명\n",
        "\n",
        "- 전화 키패드에서 왼손과 오른손의 엄지손가락만을 이용해서 숫자만을 입력하려고 합니다.\n",
        "- 맨 처음 왼손 엄지손가락은 * 키패드에 오른손 엄지손가락은 # 키패드 위치에서 시작하며, 엄지손가락을 사용하는 규칙은 다음과 같습니다.\n",
        "    - 엄지손가락은 상하좌우 4가지 방향으로만 이동할 수 있으며 키패드 이동 한 칸은 거리로 1에 해당합니다.\n",
        "    - 왼쪽 열의 3개의 숫자 1, 4, 7을 입력할 때는 왼손 엄지손가락을 사용합니다.\n",
        "오른쪽 열의 3개의 숫자 3, 6, 9를 입력할 때는 오른손 엄지손가락을 사용합니다.\n",
        "    - 가운데 열의 4개의 숫자 2, 5, 8, 0을 입력할 때는 두 엄지손가락의 현재 키패드의 위치에서 더 가까운 엄지손가락을 사용합니다.\n",
        "    - 만약 두 엄지손가락의 거리가 같다면, 오른손잡이는 오른손 엄지손가락, 왼손잡이는 왼손 엄지손가락을 사용합니다.\n",
        "- 순서대로 누를 번호가 담긴 배열 numbers, 왼손잡이인지 오른손잡이인 지를 나타내는 문자열 hand가 매개변수로 주어질 때, 각 번호를 누른 엄지손가락이 왼손인 지 오른손인 지를 나타내는 연속된 문자열 형태로 return 하도록 solution 함수를 완성해주세요.\n",
        "\n",
        "- 제한사항\n",
        "    - numbers 배열의 크기는 1 이상 1,000 이하입니다.\n",
        "    - numbers 배열 원소의 값은 0 이상 9 이하인 정수입니다.\n",
        "    - hand는 \"left\" 또는 \"right\" 입니다.\n",
        "    - \"left\"는 왼손잡이, \"right\"는 오른손잡이를 의미합니다.\n",
        "    - 왼손 엄지손가락을 사용한 경우는 L, 오른손 엄지손가락을 사용한 경우는 R을 순서대로 이어붙여 문자열 형태로 return 해주세요.\n"
      ],
      "metadata": {
        "id": "_ywzbUywZvPk"
      }
    },
    {
      "cell_type": "code",
      "execution_count": null,
      "metadata": {
        "id": "u-DW-mr-ZuoO"
      },
      "outputs": [],
      "source": [
        "def solution(numbers, hand):\n",
        "    location = {1: (0, 0), 2: (0, 1), 3: (0, 2), 4: (1, 0), 5: (1, 1), 6: (1, 2), 7: (2, 0), 8: (2, 1), 9: (2, 2), 0: (3, 1)}\n",
        "    \n",
        "    answer = []\n",
        "    current_l = (3, 0)\n",
        "    current_r = (3, 2)\n",
        "    \n",
        "    for n in numbers:\n",
        "        dist_l = abs(current_l[0] - location[n][0]) + abs(current_l[1] - location[n][1])\n",
        "        dist_r = abs(current_r[0] - location[n][0]) + abs(current_r[1] - location[n][1])\n",
        "        \n",
        "        if n in [1, 4, 7]:\n",
        "            answer.append('L')\n",
        "            current_l = location[n]\n",
        "        elif n in [3, 6, 9]:\n",
        "            answer.append('R')\n",
        "            current_r = location[n]\n",
        "        else:\n",
        "            if dist_l > dist_r:\n",
        "                answer.append('R')\n",
        "                current_r = location[n]\n",
        "            elif dist_l < dist_r:\n",
        "                answer.append('L')\n",
        "                current_l = location[n]\n",
        "            else:\n",
        "                if hand == 'right':\n",
        "                    answer.append('R')\n",
        "                    current_r = location[n]\n",
        "                else:\n",
        "                    answer.append('L')\n",
        "                    current_l = location[n]\n",
        "    \n",
        "    return ''.join(answer)"
      ]
    }
  ]
}