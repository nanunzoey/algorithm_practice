{
  "nbformat": 4,
  "nbformat_minor": 0,
  "metadata": {
    "colab": {
      "name": "baekjoon_dynamic_220215.ipynb",
      "provenance": [],
      "collapsed_sections": [],
      "authorship_tag": "ABX9TyPO9XnNZSH0Nz0L+qc2x3lY",
      "include_colab_link": true
    },
    "kernelspec": {
      "name": "python3",
      "display_name": "Python 3"
    },
    "language_info": {
      "name": "python"
    }
  },
  "cells": [
    {
      "cell_type": "markdown",
      "metadata": {
        "id": "view-in-github",
        "colab_type": "text"
      },
      "source": [
        "<a href=\"https://colab.research.google.com/github/nanunzoey/algorithm_practice/blob/main/baekjoon_dynamic_220215.ipynb\" target=\"_parent\"><img src=\"https://colab.research.google.com/assets/colab-badge.svg\" alt=\"Open In Colab\"/></a>"
      ]
    },
    {
      "cell_type": "markdown",
      "source": [
        "# 파도반 수열\n",
        "\n",
        "오른쪽 그림과 같이 삼각형이 나선 모양으로 놓여져 있다. 첫 삼각형은 정삼각형으로 변의 길이는 1이다. 그 다음에는 다음과 같은 과정으로 정삼각형을 계속 추가한다. 나선에서 가장 긴 변의 길이를 k라 했을 때, 그 변에 길이가 k인 정삼각형을 추가한다.\n",
        "\n",
        "파도반 수열 P(N)은 나선에 있는 정삼각형의 변의 길이이다. P(1)부터 P(10)까지 첫 10개 숫자는 1, 1, 1, 2, 2, 3, 4, 5, 7, 9이다.\n",
        "\n",
        "N이 주어졌을 때, P(N)을 구하는 프로그램을 작성하시오.\n",
        "\n",
        "### 입력\n",
        "- 첫째 줄에 테스트 케이스의 개수 T가 주어진다. 각 테스트 케이스는 한 줄로 이루어져 있고, N이 주어진다. (1 ≤ N ≤ 100)\n",
        "\n",
        "### 출력\n",
        "- 각 테스트 케이스마다 P(N)을 출력한다.\n",
        "\n",
        "### 제한\n",
        "- 시간: 1초\n",
        "- 메모리: 128MB"
      ],
      "metadata": {
        "id": "QVACvQUasN2_"
      }
    },
    {
      "cell_type": "code",
      "source": [
        "t = int(input())\n",
        "nums = [int(input()) for _ in range(t)]\n",
        "\n",
        "p = {}\n",
        "p[1], p[2], p[3] = 1, 1, 1\n",
        "\n",
        "for n in nums:\n",
        "    for i in range(1, n+1):\n",
        "        if i > 3:\n",
        "            p[i] = p[i-2] + p[i-3]\n",
        "    print(p[n])"
      ],
      "metadata": {
        "id": "amvFGlL4sYVv",
        "colab": {
          "base_uri": "https://localhost:8080/"
        },
        "outputId": "9bfdbb53-b881-40c5-becf-56258a437e94"
      },
      "execution_count": 10,
      "outputs": [
        {
          "output_type": "stream",
          "name": "stdout",
          "text": [
            "2\n",
            "6\n",
            "12\n",
            "3\n",
            "16\n"
          ]
        }
      ]
    },
    {
      "cell_type": "markdown",
      "source": [
        "# RGB 거리\n",
        "\n",
        "RGB거리에는 집이 N개 있다. 거리는 선분으로 나타낼 수 있고, 1번 집부터 N번 집이 순서대로 있다.\n",
        "\n",
        "집은 빨강, 초록, 파랑 중 하나의 색으로 칠해야 한다. 각각의 집을 빨강, 초록, 파랑으로 칠하는 비용이 주어졌을 때, 아래 규칙을 만족하면서 모든 집을 칠하는 비용의 최솟값을 구해보자.\n",
        "\n",
        "- 1번 집의 색은 2번 집의 색과 같지 않아야 한다.\n",
        "- N번 집의 색은 N-1번 집의 색과 같지 않아야 한다.\n",
        "- i(2 ≤ i ≤ N-1)번 집의 색은 i-1번, i+1번 집의 색과 같지 않아야 한다.\n",
        "\n",
        "### 입력\n",
        "- 첫째 줄에 집의 수 N(2 ≤ N ≤ 1,000)이 주어진다. 둘째 줄부터 N개의 줄에는 각 집을 빨강, 초록, 파랑으로 칠하는 비용이 1번 집부터 한 줄에 하나씩 주어진다. 집을 칠하는 비용은 1,000보다 작거나 같은 자연수이다.\n",
        "\n",
        "### 출력\n",
        "- 첫째 줄에 모든 집을 칠하는 비용의 최솟값을 출력한다.\n",
        "\n",
        "### 제한\n",
        "- 시간: 0.5초\n",
        "- 메모리: 128MB"
      ],
      "metadata": {
        "id": "yv4iwbMUhnSb"
      }
    },
    {
      "cell_type": "code",
      "source": [
        "n = int(input())\n",
        "rgb = [list(map(int, input().split())) for _ in range(n)]\n",
        "\n",
        "for i in range(1, n):\n",
        "    rgb[i][0] += min(rgb[i-1][1], rgb[i-1][2])\n",
        "    rgb[i][1] += min(rgb[i-1][0], rgb[i-1][2])\n",
        "    rgb[i][2] += min(rgb[i-1][0], rgb[i-1][1])\n",
        "\n",
        "print(min(rgb[-1]))"
      ],
      "metadata": {
        "colab": {
          "base_uri": "https://localhost:8080/"
        },
        "id": "WuY44QsIhnhm",
        "outputId": "e3743ebd-4902-438a-9344-9cb1f14bddf7"
      },
      "execution_count": 14,
      "outputs": [
        {
          "output_type": "stream",
          "name": "stdout",
          "text": [
            "3\n",
            "26 40 83\n",
            "49 60 57\n",
            "13 89 99\n",
            "96\n"
          ]
        }
      ]
    }
  ]
}