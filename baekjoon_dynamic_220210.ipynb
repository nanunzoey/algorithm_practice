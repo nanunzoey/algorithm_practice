{
  "nbformat": 4,
  "nbformat_minor": 0,
  "metadata": {
    "colab": {
      "name": "baekjoon_dynamic_220210.ipynb",
      "provenance": [],
      "collapsed_sections": [],
      "authorship_tag": "ABX9TyNPEckaEHZNC5QT63rWjnqP",
      "include_colab_link": true
    },
    "kernelspec": {
      "name": "python3",
      "display_name": "Python 3"
    },
    "language_info": {
      "name": "python"
    }
  },
  "cells": [
    {
      "cell_type": "markdown",
      "metadata": {
        "id": "view-in-github",
        "colab_type": "text"
      },
      "source": [
        "<a href=\"https://colab.research.google.com/github/nanunzoey/algorithm_practice/blob/main/baekjoon_dynamic_220210.ipynb\" target=\"_parent\"><img src=\"https://colab.research.google.com/assets/colab-badge.svg\" alt=\"Open In Colab\"/></a>"
      ]
    },
    {
      "cell_type": "markdown",
      "source": [
        "# 피보나치 함수\n",
        "\n",
        "피보나치 함수를 호출했을 때, 0과 1이 각각 몇 번 출력되는지 구하는 프로그램을 작성하시오.\n",
        "\n",
        "### 입력\n",
        "- 첫째 줄에 테스트 케이스의 개수 T가 주어진다.\n",
        "- 각 테스트 케이스는 한 줄로 이루어져 있고, N이 주어진다. N은 40보다 작거나 같은 자연수 또는 0이다.\n",
        "\n",
        "### 출력\n",
        "- 각 테스트 케이스마다 0이 출력되는 횟수와 1이 출력되는 횟수를 공백으로 구분해서 출력한다.\n",
        "\n",
        "### 제한\n",
        "- 시간: 0.25초\n",
        "- 메모리: 128MB"
      ],
      "metadata": {
        "id": "QVACvQUasN2_"
      }
    },
    {
      "cell_type": "code",
      "source": [
        "zeros = [0 for _ in range(41)]\n",
        "ones = [0 for _ in range(41)]\n",
        "\n",
        "zeros[0] = 1\n",
        "ones[1] = 1\n",
        "\n",
        "for i in range(2, 41):\n",
        "    zeros[i] = zeros[i-1] + zeros[i-2]\n",
        "    ones[i] = ones[i-1] + ones[i-2]\n",
        "\n",
        "t = int(input())\n",
        "nums = [int(input()) for _ in range(t)]\n",
        "\n",
        "for n in nums:\n",
        "    print(zeros[n], ones[n])"
      ],
      "metadata": {
        "colab": {
          "base_uri": "https://localhost:8080/"
        },
        "id": "amvFGlL4sYVv",
        "outputId": "0d63ba67-2c9c-4a8e-eab0-0c9f15bd129f"
      },
      "execution_count": 20,
      "outputs": [
        {
          "output_type": "stream",
          "name": "stdout",
          "text": [
            "2\n",
            "6\n",
            "22\n",
            "5 8\n",
            "10946 17711\n"
          ]
        }
      ]
    }
  ]
}