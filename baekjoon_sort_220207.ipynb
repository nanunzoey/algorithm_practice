{
  "nbformat": 4,
  "nbformat_minor": 0,
  "metadata": {
    "colab": {
      "name": "baekjoon_sort_220207.ipynb",
      "provenance": [],
      "collapsed_sections": [],
      "authorship_tag": "ABX9TyNxJn20biUX9bKKOZDTBdH7",
      "include_colab_link": true
    },
    "kernelspec": {
      "name": "python3",
      "display_name": "Python 3"
    },
    "language_info": {
      "name": "python"
    }
  },
  "cells": [
    {
      "cell_type": "markdown",
      "metadata": {
        "id": "view-in-github",
        "colab_type": "text"
      },
      "source": [
        "<a href=\"https://colab.research.google.com/github/nanunzoey/algorithm_practice/blob/main/baekjoon_sort_220207.ipynb\" target=\"_parent\"><img src=\"https://colab.research.google.com/assets/colab-badge.svg\" alt=\"Open In Colab\"/></a>"
      ]
    },
    {
      "cell_type": "markdown",
      "source": [
        "# 소트인사이드\n",
        "\n",
        "배열을 정렬하는 것은 쉽다. 수가 주어지면, 그 수의 각 자리수를 내림차순으로 정렬해보자.\n",
        "\n",
        "\n",
        "### 입력\n",
        "- 첫째 줄에 정렬하려고 하는 수 N이 주어진다. N은 1,000,000,000보다 작거나 같은 자연수이다.\n",
        "\n",
        "### 출력\n",
        "- 첫째 줄에 자리수를 내림차순으로 정렬한 수를 출력한다.\n",
        "\n",
        "### 제한\n",
        "- 시간: 2초\n",
        "- 메모리: 128MB"
      ],
      "metadata": {
        "id": "kCQBtJ63wPvE"
      }
    },
    {
      "cell_type": "code",
      "source": [
        "n = input()\n",
        "answer = [int(i) for i in n]\n",
        "answer.sort(reverse=True)\n",
        "\n",
        "print(''.join(map(str, answer)))"
      ],
      "metadata": {
        "id": "hliSDnJTwQBZ",
        "colab": {
          "base_uri": "https://localhost:8080/"
        },
        "outputId": "0a0fbd40-d699-462d-babc-cf9675f17773"
      },
      "execution_count": null,
      "outputs": [
        {
          "output_type": "stream",
          "name": "stdout",
          "text": [
            "2143\n",
            "4321\n"
          ]
        }
      ]
    },
    {
      "cell_type": "markdown",
      "source": [
        "# 좌표 정렬하기\n",
        "\n",
        "2차원 평면 위의 점 N개가 주어진다. 좌표를 x좌표가 증가하는 순으로, x좌표가 같으면 y좌표가 증가하는 순서로 정렬한 다음 출력하는 프로그램을 작성하시오.\n",
        "\n",
        "### 입력\n",
        "- 첫째 줄에 점의 개수 N (1 ≤ N ≤ 100,000)이 주어진다. 둘째 줄부터 N개의 줄에는 i번점의 위치 xi와 yi가 주어진다. (-100,000 ≤ xi, yi ≤ 100,000) 좌표는 항상 정수이고, 위치가 같은 두 점은 없다.\n",
        "\n",
        "### 출력\n",
        "- 첫째 줄부터 N개의 줄에 점을 정렬한 결과를 출력한다.\n",
        "\n",
        "### 제한\n",
        "- 시간: 1초\n",
        "- 메모리: 256MB"
      ],
      "metadata": {
        "id": "HvfeVNJ_iQuy"
      }
    },
    {
      "cell_type": "code",
      "source": [
        "n = int(input())\n",
        "nums = []\n",
        "for _ in range(n):\n",
        "    [a, b] = map(int, input().split())\n",
        "    nums.append([a, b])\n",
        "    \n",
        "nums = sorted(nums)\n",
        "for i in range(n):\n",
        "    print(nums[i][0], nums[i][1])"
      ],
      "metadata": {
        "colab": {
          "base_uri": "https://localhost:8080/"
        },
        "id": "1_Tcx2qqic7e",
        "outputId": "a5340e7e-36ac-4eab-ed04-517f90aaaa15"
      },
      "execution_count": 11,
      "outputs": [
        {
          "output_type": "stream",
          "name": "stdout",
          "text": [
            "5\n",
            "3 4\n",
            "1 1\n",
            "1 -1\n",
            "2 2\n",
            "3 3\n",
            "1 -1\n",
            "1 1\n",
            "2 2\n",
            "3 3\n",
            "3 4\n"
          ]
        }
      ]
    }
  ]
}