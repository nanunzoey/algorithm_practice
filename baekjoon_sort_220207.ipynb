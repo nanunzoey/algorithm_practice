{
  "nbformat": 4,
  "nbformat_minor": 0,
  "metadata": {
    "colab": {
      "name": "baekjoon_sort_220207.ipynb",
      "provenance": [],
      "collapsed_sections": [],
      "authorship_tag": "ABX9TyNcpJeceBXNw7zn9yyJQXiY",
      "include_colab_link": true
    },
    "kernelspec": {
      "name": "python3",
      "display_name": "Python 3"
    },
    "language_info": {
      "name": "python"
    }
  },
  "cells": [
    {
      "cell_type": "markdown",
      "metadata": {
        "id": "view-in-github",
        "colab_type": "text"
      },
      "source": [
        "<a href=\"https://colab.research.google.com/github/nanunzoey/algorithm_practice/blob/main/baekjoon_sort_220207.ipynb\" target=\"_parent\"><img src=\"https://colab.research.google.com/assets/colab-badge.svg\" alt=\"Open In Colab\"/></a>"
      ]
    },
    {
      "cell_type": "markdown",
      "source": [
        "# 소트인사이드\n",
        "\n",
        "배열을 정렬하는 것은 쉽다. 수가 주어지면, 그 수의 각 자리수를 내림차순으로 정렬해보자.\n",
        "\n",
        "\n",
        "### 입력\n",
        "- 첫째 줄에 정렬하려고 하는 수 N이 주어진다. N은 1,000,000,000보다 작거나 같은 자연수이다.\n",
        "\n",
        "### 출력\n",
        "- 첫째 줄에 자리수를 내림차순으로 정렬한 수를 출력한다.\n",
        "\n",
        "### 제한\n",
        "- 시간: 2초\n",
        "- 메모리: 128MB"
      ],
      "metadata": {
        "id": "kCQBtJ63wPvE"
      }
    },
    {
      "cell_type": "code",
      "source": [
        "n = input()\n",
        "answer = [int(i) for i in n]\n",
        "answer.sort(reverse=True)\n",
        "\n",
        "print(''.join(map(str, answer)))"
      ],
      "metadata": {
        "id": "hliSDnJTwQBZ",
        "colab": {
          "base_uri": "https://localhost:8080/"
        },
        "outputId": "0a0fbd40-d699-462d-babc-cf9675f17773"
      },
      "execution_count": 6,
      "outputs": [
        {
          "output_type": "stream",
          "name": "stdout",
          "text": [
            "2143\n",
            "4321\n"
          ]
        }
      ]
    }
  ]
}