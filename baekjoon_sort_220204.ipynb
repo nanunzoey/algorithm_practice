{
  "nbformat": 4,
  "nbformat_minor": 0,
  "metadata": {
    "colab": {
      "name": "baekjoon_sort_220204.ipynb",
      "provenance": [],
      "authorship_tag": "ABX9TyNHMEh/8uOnT0WFpyTycNTv",
      "include_colab_link": true
    },
    "kernelspec": {
      "name": "python3",
      "display_name": "Python 3"
    },
    "language_info": {
      "name": "python"
    }
  },
  "cells": [
    {
      "cell_type": "markdown",
      "metadata": {
        "id": "view-in-github",
        "colab_type": "text"
      },
      "source": [
        "<a href=\"https://colab.research.google.com/github/nanunzoey/algorithm_practice/blob/main/baekjoon_sort_220204.ipynb\" target=\"_parent\"><img src=\"https://colab.research.google.com/assets/colab-badge.svg\" alt=\"Open In Colab\"/></a>"
      ]
    },
    {
      "cell_type": "markdown",
      "source": [
        "# 통계학\n",
        "\n",
        "수를 처리하는 것은 통계학에서 상당히 중요한 일이다. 통계학에서 N개의 수를 대표하는 기본 통계값에는 다음과 같은 것들이 있다. 단, N은 홀수라고 가정하자.\n",
        "\n",
        "- 산술평균 : N개의 수들의 합을 N으로 나눈 값\n",
        "- 중앙값 : N개의 수들을 증가하는 순서로 나열했을 경우 그 중앙에 위치하는 값\n",
        "- 최빈값 : N개의 수들 중 가장 많이 나타나는 값\n",
        "- 범위 : N개의 수들 중 최댓값과 최솟값의 차이\n",
        "\n",
        "N개의 수가 주어졌을 때, 네 가지 기본 통계값을 구하는 프로그램을 작성하시오.\n",
        "\n",
        "### 입력\n",
        "- 첫째 줄에 수의 개수 N(1 ≤ N ≤ 500,000)이 주어진다. 단, N은 홀수이다. 그 다음 N개의 줄에는 정수들이 주어진다. 입력되는 정수의 절댓값은 4,000을 넘지 않는다.\n",
        "\n",
        "### 출력\n",
        "- 첫째 줄에는 산술평균을 출력한다. 소수점 이하 첫째 자리에서 반올림한 값을 출력한다.\n",
        "- 둘째 줄에는 중앙값을 출력한다.\n",
        "- 셋째 줄에는 최빈값을 출력한다. 여러 개 있을 때에는 최빈값 중 두 번째로 작은 값을 출력한다.\n",
        "- 넷째 줄에는 범위를 출력한다.\n",
        "\n",
        "### 제한\n",
        "- 시간: 2초\n",
        "- 메모리: 256MB"
      ],
      "metadata": {
        "id": "kCQBtJ63wPvE"
      }
    },
    {
      "cell_type": "code",
      "source": [
        "import sys\n",
        "from collections import Counter\n",
        "\n",
        "n = int(sys.stdin.readline())\n",
        "nums = [int(sys.stdin.readline()) for _ in range(n)]\n",
        "nums.sort()\n",
        "\n",
        "print(round(sum(nums)/len(nums)))\n",
        "print(nums[len(nums)//2])\n",
        "\n",
        "cnt = Counter(nums).most_common(2)\n",
        "if len(nums) > 1:\n",
        "    if cnt[0][1] == cnt[1][1]:\n",
        "        print(cnt[1][0])\n",
        "    else:\n",
        "        print(cnt[0][0])\n",
        "else:\n",
        "    print(cnt[0][0])\n",
        "\n",
        "print(max(nums) - min(nums))"
      ],
      "metadata": {
        "id": "hliSDnJTwQBZ"
      },
      "execution_count": null,
      "outputs": []
    },
    {
      "cell_type": "code",
      "source": [
        ""
      ],
      "metadata": {
        "id": "bbXLUyWi-XLg"
      },
      "execution_count": null,
      "outputs": []
    }
  ]
}