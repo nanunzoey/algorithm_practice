{
  "nbformat": 4,
  "nbformat_minor": 0,
  "metadata": {
    "colab": {
      "name": "baekjoon_dynamic_220214.ipynb",
      "provenance": [],
      "collapsed_sections": [],
      "authorship_tag": "ABX9TyOF1vyJfMRVfk9SvHPr5L2j",
      "include_colab_link": true
    },
    "kernelspec": {
      "name": "python3",
      "display_name": "Python 3"
    },
    "language_info": {
      "name": "python"
    }
  },
  "cells": [
    {
      "cell_type": "markdown",
      "metadata": {
        "id": "view-in-github",
        "colab_type": "text"
      },
      "source": [
        "<a href=\"https://colab.research.google.com/github/nanunzoey/algorithm_practice/blob/main/baekjoon_dynamic_220214.ipynb\" target=\"_parent\"><img src=\"https://colab.research.google.com/assets/colab-badge.svg\" alt=\"Open In Colab\"/></a>"
      ]
    },
    {
      "cell_type": "markdown",
      "source": [
        "# 01타일\n",
        "\n",
        "지원이에게 2진 수열을 가르쳐 주기 위해, 지원이 아버지는 그에게 타일들을 선물해주셨다. 그리고 이 각각의 타일들은 0 또는 1이 쓰여 있는 낱장의 타일들이다.\n",
        "\n",
        "어느 날 짓궂은 동주가 지원이의 공부를 방해하기 위해 0이 쓰여진 낱장의 타일들을 붙여서 한 쌍으로 이루어진 00 타일들을 만들었다. 결국 현재 1 하나만으로 이루어진 타일 또는 0타일을 두 개 붙인 한 쌍의 00타일들만이 남게 되었다.\n",
        "\n",
        "그러므로 지원이는 타일로 더 이상 크기가 N인 모든 2진 수열을 만들 수 없게 되었다. 예를 들어, N=1일 때 1만 만들 수 있고, N=2일 때는 00, 11을 만들 수 있다. (01, 10은 만들 수 없게 되었다.) 또한 N=4일 때는 0011, 0000, 1001, 1100, 1111 등 총 5개의 2진 수열을 만들 수 있다.\n",
        "\n",
        "우리의 목표는 N이 주어졌을 때 지원이가 만들 수 있는 모든 가짓수를 세는 것이다. 단 타일들은 무한히 많은 것으로 가정하자.\n",
        "\n",
        "### 입력\n",
        "- 첫 번째 줄에 자연수 N이 주어진다. (1 ≤ N ≤ 1,000,000)\n",
        "\n",
        "### 출력\n",
        "- 첫 번째 줄에 지원이가 만들 수 있는 길이가 N인 모든 2진 수열의 개수를 15746으로 나눈 나머지를 출력한다.\n",
        "\n",
        "### 제한\n",
        "- 시간: 0.75초\n",
        "- 메모리: 256MB\n",
        "\n",
        "### 참고\n",
        "- [블로그](https://kils-log-of-develop.tistory.com/244)"
      ],
      "metadata": {
        "id": "QVACvQUasN2_"
      }
    },
    {
      "cell_type": "code",
      "source": [
        "n = int(input())\n",
        "dp = [0] * 1000001\n",
        "dp[1] = 1\n",
        "dp[2] = 2\n",
        "\n",
        "for i in range(3, n+1):\n",
        "    dp[i] = (dp[i-2] + dp[i-1]) % 15746\n",
        "    \n",
        "print(dp[n])"
      ],
      "metadata": {
        "id": "amvFGlL4sYVv",
        "colab": {
          "base_uri": "https://localhost:8080/"
        },
        "outputId": "66cddca6-a17a-4712-ad49-35f0f2b0bd47"
      },
      "execution_count": 2,
      "outputs": [
        {
          "output_type": "stream",
          "name": "stdout",
          "text": [
            "4\n",
            "5\n"
          ]
        }
      ]
    }
  ]
}