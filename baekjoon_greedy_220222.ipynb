{
  "nbformat": 4,
  "nbformat_minor": 0,
  "metadata": {
    "colab": {
      "name": "baekjoon_greedy_220222.ipynb",
      "provenance": [],
      "collapsed_sections": [],
      "authorship_tag": "ABX9TyN3cPOU6rm2y/Y/G/PXaZD6"
    },
    "kernelspec": {
      "name": "python3",
      "display_name": "Python 3"
    },
    "language_info": {
      "name": "python"
    }
  },
  "cells": [
    {
      "cell_type": "markdown",
      "source": [
        "# 동전0\n",
        "\n",
        "준규가 가지고 있는 동전은 총 N종류이고, 각각의 동전을 매우 많이 가지고 있다.\n",
        "\n",
        "동전을 적절히 사용해서 그 가치의 합을 K로 만들려고 한다. 이때 필요한 동전 개수의 최솟값을 구하는 프로그램을 작성하시오.\n",
        "\n",
        "### 입력\n",
        "- 첫째 줄에 N과 K가 주어진다. (1 ≤ N ≤ 10, 1 ≤ K ≤ 100,000,000)\n",
        "\n",
        "- 둘째 줄부터 N개의 줄에 동전의 가치 Ai가 오름차순으로 주어진다. (1 ≤ Ai ≤ 1,000,000, A1 = 1, i ≥ 2인 경우에 Ai는 Ai-1의 배수)\n",
        "\n",
        "### 출력\n",
        "- 첫째 줄에 K원을 만드는데 필요한 동전 개수의 최솟값을 출력한다.\n",
        "\n",
        "### 제한\n",
        "- 시간: 1초\n",
        "- 메모리: 256MB"
      ],
      "metadata": {
        "id": "yv4iwbMUhnSb"
      }
    },
    {
      "cell_type": "code",
      "source": [
        "[n, k] = list(map(int, input().split()))\n",
        "coins = [int(input()) for _ in range(n)]\n",
        "coins.sort(reverse=True)\n",
        "\n",
        "cnt = 0\n",
        "for c in coins:\n",
        "    if c <= k:\n",
        "        cnt += k // c\n",
        "        k %= c\n",
        "            \n",
        "print(cnt)"
      ],
      "metadata": {
        "colab": {
          "base_uri": "https://localhost:8080/"
        },
        "id": "WuY44QsIhnhm",
        "outputId": "e7fb55a0-6511-4fcb-da2b-26a64230efb8"
      },
      "execution_count": 3,
      "outputs": [
        {
          "output_type": "stream",
          "name": "stdout",
          "text": [
            "10 4200\n",
            "1\n",
            "5\n",
            "10\n",
            "50\n",
            "100\n",
            "500\n",
            "1000\n",
            "5000\n",
            "10000\n",
            "50000\n",
            "6 0\n"
          ]
        }
      ]
    }
  ]
}