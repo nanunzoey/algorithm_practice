{
  "nbformat": 4,
  "nbformat_minor": 0,
  "metadata": {
    "colab": {
      "name": "baekjoon_sort_220131.ipynb",
      "provenance": [],
      "authorship_tag": "ABX9TyNWpFsnwrzYVRmG/pEa0BE1",
      "include_colab_link": true
    },
    "kernelspec": {
      "name": "python3",
      "display_name": "Python 3"
    },
    "language_info": {
      "name": "python"
    }
  },
  "cells": [
    {
      "cell_type": "markdown",
      "metadata": {
        "id": "view-in-github",
        "colab_type": "text"
      },
      "source": [
        "<a href=\"https://colab.research.google.com/github/nanunzoey/algorithm_practice/blob/main/baekjoon_sort_220131.ipynb\" target=\"_parent\"><img src=\"https://colab.research.google.com/assets/colab-badge.svg\" alt=\"Open In Colab\"/></a>"
      ]
    },
    {
      "cell_type": "markdown",
      "source": [
        "# 수 정렬하기3\n",
        "\n",
        "N개의 수가 주어졌을 때, 이를 오름차순으로 정렬하는 프로그램을 작성하시오.\n",
        "\n",
        "### 입력\n",
        "- 첫째 줄에 수의 개수 N(1 ≤ N ≤ 10,000,000)이 주어진다. 이 수는 10,000보다 작거나 같은 자연수이다.\n",
        "\n",
        "### 출력\n",
        "- 첫째 줄부터 N개의 줄에 오름차순으로 정렬한 결과를 한 줄에 하나씩 출력한다.\n",
        "\n",
        "### 제한\n",
        "- 시간: 5초\n",
        "- 메모리: 8MB\n",
        "\n",
        "### 참고 자료\n",
        "- [블로그](https://somjang.tistory.com/entry/Mxmxmxm)"
      ],
      "metadata": {
        "id": "kCQBtJ63wPvE"
      }
    },
    {
      "cell_type": "code",
      "source": [
        "import sys\n",
        "\n",
        "n = int(input())\n",
        "cnt = [0] * 10000\n",
        "\n",
        "for i in range(n):\n",
        "    num = int(sys.stdin.readline())\n",
        "    cnt[num-1] += 1\n",
        "\n",
        "for i in range(10000):\n",
        "    if cnt[i] != 0:\n",
        "        for j in range(cnt[i]):\n",
        "            print(i+1)"
      ],
      "metadata": {
        "id": "hliSDnJTwQBZ"
      },
      "execution_count": null,
      "outputs": []
    }
  ]
}