{
  "nbformat": 4,
  "nbformat_minor": 0,
  "metadata": {
    "colab": {
      "name": "baekjoon_sort_220129.ipynb",
      "provenance": [],
      "authorship_tag": "ABX9TyOl/h8IA7hnqUfvPRp5k5yj",
      "include_colab_link": true
    },
    "kernelspec": {
      "name": "python3",
      "display_name": "Python 3"
    },
    "language_info": {
      "name": "python"
    }
  },
  "cells": [
    {
      "cell_type": "markdown",
      "metadata": {
        "id": "view-in-github",
        "colab_type": "text"
      },
      "source": [
        "<a href=\"https://colab.research.google.com/github/nanunzoey/algorithm_practice/blob/main/baekjoon_sort_220129.ipynb\" target=\"_parent\"><img src=\"https://colab.research.google.com/assets/colab-badge.svg\" alt=\"Open In Colab\"/></a>"
      ]
    },
    {
      "cell_type": "markdown",
      "source": [
        "# 수 정렬하기 1\n",
        "\n",
        "N개의 수가 주어졌을 때, 이를 오름차순으로 정렬하는 프로그램을 작성하시오.\n",
        "\n",
        "### 입력\n",
        "- 첫째 줄에 수의 개수 N(1 ≤ N ≤ 1,000)이 주어진다.\n",
        "- 둘째 줄부터 N개의 줄에는 수 주어진다. 이 수는 절댓값이 1,000보다 작거나 같은 정수이다.\n",
        "- 수는 중복되지 않는다.\n",
        "\n",
        "### 출력\n",
        "- 첫째 줄부터 N개의 줄에 오름차순으로 정렬한 결과를 한 줄에 하나씩 출력한다.\n"
      ],
      "metadata": {
        "id": "6sdvJgNWv9DD"
      }
    },
    {
      "cell_type": "code",
      "execution_count": null,
      "metadata": {
        "id": "0ogh9L4Ev3oA"
      },
      "outputs": [],
      "source": [
        "n = int(input())\n",
        "answer = [int(input()) for _ in range(n)]\n",
        "answer.sort()\n",
        "\n",
        "for a in answer:\n",
        "    print(a)"
      ]
    },
    {
      "cell_type": "markdown",
      "source": [
        "# 수 정렬하기2\n",
        "\n",
        "N개의 수가 주어졌을 때, 이를 오름차순으로 정렬하는 프로그램을 작성하시오.\n",
        "\n",
        "### 입력\n",
        "- 첫째 줄에 수의 개수 N(1 ≤ N ≤ 1,000,000)이 주어진다.\n",
        "- 둘째 줄부터 N개의 줄에는 수가 주어진다. 이 수는 절댓값이 1,000,000보다 작거나 같은 정수이다.\n",
        "- 수는 중복되지 않는다.\n",
        "\n",
        "### 출력\n",
        "- 첫째 줄부터 N개의 줄에 오름차순으로 정렬한 결과를 한 줄에 하나씩 출력한다.\n",
        "\n",
        "### 참고 자료\n",
        "- [블로그](https://chancoding.tistory.com/19)"
      ],
      "metadata": {
        "id": "kCQBtJ63wPvE"
      }
    },
    {
      "cell_type": "code",
      "source": [
        "import sys\n",
        "\n",
        "n = int(input())\n",
        "answer = [int(sys.stdin.readline()) for _ in range(n)]\n",
        "\n",
        "for a in sorted(answer):\n",
        "    sys.stdout.write(str(a) + '\\n')"
      ],
      "metadata": {
        "id": "hliSDnJTwQBZ"
      },
      "execution_count": null,
      "outputs": []
    }
  ]
}