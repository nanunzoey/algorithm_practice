{
  "nbformat": 4,
  "nbformat_minor": 0,
  "metadata": {
    "colab": {
      "name": "baekjoon_dynamic_220217.ipynb",
      "provenance": [],
      "collapsed_sections": [],
      "authorship_tag": "ABX9TyOep//pFkfEgaCc2pnHZ+Ja"
    },
    "kernelspec": {
      "name": "python3",
      "display_name": "Python 3"
    },
    "language_info": {
      "name": "python"
    }
  },
  "cells": [
    {
      "cell_type": "markdown",
      "source": [
        "# 계단 오르기\n",
        "\n",
        "계단 오르기 게임은 계단 아래 시작점부터 계단 꼭대기에 위치한 도착점까지 가는 게임이다. 각각의 계단에는 일정한 점수가 쓰여 있는데 계단을 밟으면 그 계단에 쓰여 있는 점수를 얻게 된다.\n",
        "\n",
        "계단 오르는 데는 다음과 같은 규칙이 있다.\n",
        "\n",
        "1. 계단은 한 번에 한 계단씩 또는 두 계단씩 오를 수 있다. 즉, 한 계단을 밟으면서 이어서 다음 계단이나, 다음 다음 계단으로 오를 수 있다.\n",
        "2. 연속된 세 개의 계단을 모두 밟아서는 안 된다. 단, 시작점은 계단에 포함되지 않는다.\n",
        "3. 마지막 도착 계단은 반드시 밟아야 한다.\n",
        "\n",
        "따라서 첫 번째 계단을 밟고 이어 두 번째 계단이나, 세 번째 계단으로 오를 수 있다. 하지만, 첫 번째 계단을 밟고 이어 네 번째 계단으로 올라가거나, 첫 번째, 두 번째, 세 번째 계단을 연속해서 모두 밟을 수는 없다.\n",
        "\n",
        "각 계단에 쓰여 있는 점수가 주어질 때 이 게임에서 얻을 수 있는 총 점수의 최댓값을 구하는 프로그램을 작성하시오.\n",
        "\n",
        "### 입력\n",
        "- 입력의 첫째 줄에 계단의 개수가 주어진다.\n",
        "- 둘째 줄부터 한 줄에 하나씩 제일 아래에 놓인 계단부터 순서대로 각 계단에 쓰여 있는 점수가 주어진다. 계단의 개수는 300이하의 자연수이고, 계단에 쓰여 있는 점수는 10,000이하의 자연수이다.\n",
        "\n",
        "### 출력\n",
        "- 첫째 줄에 계단 오르기 게임에서 얻을 수 있는 총 점수의 최댓값을 출력한다.\n",
        "\n",
        "### 제한\n",
        "- 시간: 1초\n",
        "- 메모리: 128MB"
      ],
      "metadata": {
        "id": "yv4iwbMUhnSb"
      }
    },
    {
      "cell_type": "code",
      "source": [
        "n = int(input())\n",
        "steps = [0] + [int(input()) for _ in range(n)] + [0]\n",
        "dp = [0] * (n+2)\n",
        "\n",
        "dp[1] = steps[1]\n",
        "dp[2] = dp[1] + steps[2]\n",
        "for i in range(3, n+1):\n",
        "    dp[i] = steps[i] + max(steps[i-1] + dp[i-3], dp[i-2])\n",
        "\n",
        "print(dp[n])"
      ],
      "metadata": {
        "colab": {
          "base_uri": "https://localhost:8080/"
        },
        "id": "WuY44QsIhnhm",
        "outputId": "5d44c2b8-9fa5-4a34-c506-1f446248f39e"
      },
      "execution_count": 7,
      "outputs": [
        {
          "output_type": "stream",
          "name": "stdout",
          "text": [
            "6\n",
            "10\n",
            "20\n",
            "15\n",
            "25\n",
            "10\n",
            "20\n",
            "75\n"
          ]
        }
      ]
    }
  ]
}