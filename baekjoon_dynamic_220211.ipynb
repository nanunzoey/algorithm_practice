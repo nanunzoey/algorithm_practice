{
  "nbformat": 4,
  "nbformat_minor": 0,
  "metadata": {
    "colab": {
      "name": "baekjoon_dynamic_220211.ipynb",
      "provenance": [],
      "collapsed_sections": [],
      "authorship_tag": "ABX9TyPMUmkUvV/OT8z1Eyc1Y4p9",
      "include_colab_link": true
    },
    "kernelspec": {
      "name": "python3",
      "display_name": "Python 3"
    },
    "language_info": {
      "name": "python"
    }
  },
  "cells": [
    {
      "cell_type": "markdown",
      "metadata": {
        "id": "view-in-github",
        "colab_type": "text"
      },
      "source": [
        "<a href=\"https://colab.research.google.com/github/nanunzoey/algorithm_practice/blob/main/baekjoon_dynamic_220211.ipynb\" target=\"_parent\"><img src=\"https://colab.research.google.com/assets/colab-badge.svg\" alt=\"Open In Colab\"/></a>"
      ]
    },
    {
      "cell_type": "markdown",
      "source": [
        "# 신나는 함수 실행\n",
        "\n",
        "a, b, c가 주어졌을 때, w(a, b, c)를 출력하는 프로그램을 작성하시오.\n",
        "\n",
        "### 입력\n",
        "- 입력은 세 정수 a, b, c로 이루어져 있으며, 한 줄에 하나씩 주어진다. 입력의 마지막은 -1 -1 -1로 나타내며, 세 정수가 모두 -1인 경우는 입력의 마지막을 제외하면 없다.\n",
        "\n",
        "### 출력\n",
        "- 입력으로 주어진 각각의 a, b, c에 대해서, w(a, b, c)를 출력한다.\n",
        "\n",
        "### 제한\n",
        "- 시간: 1초\n",
        "- 메모리: 128MB\n",
        "- 입력: -50 ≤ a, b, c ≤ 50"
      ],
      "metadata": {
        "id": "QVACvQUasN2_"
      }
    },
    {
      "cell_type": "code",
      "source": [
        "db = [[[0] * (21) for _ in range(21)] for _ in range(21)]\n",
        "\n",
        "def w(a, b, c):\n",
        "    if a <= 0 or b <= 0 or c <= 0:\n",
        "        return 1\n",
        "    if a > 20 or b > 20 or c > 20:\n",
        "        return w(20, 20, 20)\n",
        "    if db[a][b][c]:\n",
        "        return db[a][b][c]\n",
        "    if a < b < c:\n",
        "        db[a][b][c] = w(a, b, c-1) + w(a, b-1, c-1) - w(a, b-1, c)\n",
        "        return db[a][b][c]\n",
        "    else:\n",
        "        db[a][b][c] = w(a-1, b, c) + w(a-1, b-1, c) + w(a-1, b, c-1) - w(a-1, b-1, c-1)\n",
        "        return db[a][b][c]\n",
        "\n",
        "\n",
        "while True:\n",
        "    a, b, c = map(int, input().split())\n",
        "    if a == -1 and b == -1 and c == -1:\n",
        "        break\n",
        "    print(f'w({a}, {b}, {c}) = {w(a, b, c)}')"
      ],
      "metadata": {
        "id": "amvFGlL4sYVv",
        "colab": {
          "base_uri": "https://localhost:8080/"
        },
        "outputId": "fd746dab-7f83-4ff3-a944-dd95c1f838a2"
      },
      "execution_count": 28,
      "outputs": [
        {
          "name": "stdout",
          "output_type": "stream",
          "text": [
            "50 50 50\n",
            "w(50, 50, 50) = 1048576\n",
            "-1 -1 -1\n"
          ]
        }
      ]
    }
  ]
}